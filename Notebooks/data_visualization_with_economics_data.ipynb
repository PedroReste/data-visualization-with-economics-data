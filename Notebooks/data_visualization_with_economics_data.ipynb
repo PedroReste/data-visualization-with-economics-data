{
  "nbformat": 4,
  "nbformat_minor": 0,
  "metadata": {
    "colab": {
      "provenance": [],
      "authorship_tag": "ABX9TyOVlpkbinpIyfZvZwbAxmMp",
      "include_colab_link": true
    },
    "kernelspec": {
      "name": "python3",
      "display_name": "Python 3"
    },
    "language_info": {
      "name": "python"
    }
  },
  "cells": [
    {
      "cell_type": "markdown",
      "metadata": {
        "id": "view-in-github",
        "colab_type": "text"
      },
      "source": [
        "<a href=\"https://colab.research.google.com/github/PedroReste/data-visualization-with-economics-data/blob/main/Notebooks/data_visualization_with_economics_data.ipynb\" target=\"_parent\"><img src=\"https://colab.research.google.com/assets/colab-badge.svg\" alt=\"Open In Colab\"/></a>"
      ]
    },
    {
      "cell_type": "code",
      "execution_count": 103,
      "metadata": {
        "id": "7vEBKiZXYhus"
      },
      "outputs": [],
      "source": [
        "#Importing all libriries necessaries to do the visualizations\n",
        "import pandas as pd\n",
        "import matplotlib.pyplot as plt\n",
        "import seaborn as sns\n",
        "\n",
        "from google.colab import data_table\n",
        "data_table.disable_dataframe_formatter()"
      ]
    },
    {
      "cell_type": "code",
      "source": [
        "#Importind the bases from Github. Link:https://github.com/PedroReste/data-visualization-with-economics-data\n",
        "gdp = 'https://raw.githubusercontent.com/PedroReste/data-visualization-with-economics-data/main/Databases/gdp_growth_annual_percentage.csv'\n",
        "gdp_per_capita = 'https://raw.githubusercontent.com/PedroReste/data-visualization-with-economics-data/main/Databases/gdp_per_capita_growth_annual_percentage.csv'\n",
        "inflation = 'https://raw.githubusercontent.com/PedroReste/data-visualization-with-economics-data/main/Databases/inflation_consumer_prices_annual_percentage.csv'\n",
        "\n",
        "gdp = pd.read_csv(gdp, sep=',')\n",
        "gdp_per_capita = pd.read_csv(gdp_per_capita, sep=',')\n",
        "inflation = pd.read_csv(inflation, sep=',')"
      ],
      "metadata": {
        "id": "lg6SS4ODYk2N"
      },
      "execution_count": 104,
      "outputs": []
    },
    {
      "cell_type": "code",
      "source": [
        "#Droping columns relateds of indicator name and code, and a column without information\n",
        "drop_columns = ['Indicator Name', 'Indicator Code', 'Unnamed: 66']\n",
        "\n",
        "gdp = gdp.drop(columns= drop_columns)\n",
        "gdp_per_capita = gdp_per_capita.drop(columns= drop_columns)\n",
        "inflation = inflation.drop(columns= drop_columns)"
      ],
      "metadata": {
        "id": "OAq3_vICaItb"
      },
      "execution_count": 105,
      "outputs": []
    },
    {
      "cell_type": "code",
      "source": [
        "inflation.head()"
      ],
      "metadata": {
        "colab": {
          "base_uri": "https://localhost:8080/",
          "height": 404
        },
        "id": "I_fFY9gGdLPv",
        "outputId": "046b8a8f-71bb-4235-9990-e131aa453e9d"
      },
      "execution_count": 106,
      "outputs": [
        {
          "output_type": "execute_result",
          "data": {
            "text/plain": [
              "                  Country Name Country Code  1960  1961  1962  1963  1964  \\\n",
              "0                        Aruba          ABW   NaN   NaN   NaN   NaN   NaN   \n",
              "1  Africa Eastern and Southern          AFE   NaN   NaN   NaN   NaN   NaN   \n",
              "2                  Afghanistan          AFG   NaN   NaN   NaN   NaN   NaN   \n",
              "3   Africa Western and Central          AFW   NaN   NaN   NaN   NaN   NaN   \n",
              "4                       Angola          AGO   NaN   NaN   NaN   NaN   NaN   \n",
              "\n",
              "   1965  1966  1967  ...       2012      2013      2014      2015       2016  \\\n",
              "0   NaN   NaN   NaN  ...   0.627472 -2.372065  0.421441  0.474764  -0.931196   \n",
              "1   NaN   NaN   NaN  ...   9.158707  5.750981  5.370290  5.250171   6.571396   \n",
              "2   NaN   NaN   NaN  ...   6.441213  7.385772  4.673996 -0.661709   4.383892   \n",
              "3   NaN   NaN   NaN  ...   4.578375  2.439201  1.758052  2.130268   1.494564   \n",
              "4   NaN   NaN   NaN  ...  10.277905  8.777814  7.280387  9.353840  30.698958   \n",
              "\n",
              "        2017       2018       2019       2020       2021  \n",
              "0  -1.028282   3.626041   4.257462        NaN        NaN  \n",
              "1   6.399343   4.720811   4.120246   6.362961   6.079328  \n",
              "2   4.975952   0.626149   2.302373        NaN        NaN  \n",
              "3   1.764635   1.784050   1.758565   2.437609   3.837868  \n",
              "4  29.842578  19.630594  17.079704  22.271564  25.754266  \n",
              "\n",
              "[5 rows x 64 columns]"
            ],
            "text/html": [
              "\n",
              "  <div id=\"df-2c1e629a-7ab6-4d8a-84bc-3be2e5cea6d4\">\n",
              "    <div class=\"colab-df-container\">\n",
              "      <div>\n",
              "<style scoped>\n",
              "    .dataframe tbody tr th:only-of-type {\n",
              "        vertical-align: middle;\n",
              "    }\n",
              "\n",
              "    .dataframe tbody tr th {\n",
              "        vertical-align: top;\n",
              "    }\n",
              "\n",
              "    .dataframe thead th {\n",
              "        text-align: right;\n",
              "    }\n",
              "</style>\n",
              "<table border=\"1\" class=\"dataframe\">\n",
              "  <thead>\n",
              "    <tr style=\"text-align: right;\">\n",
              "      <th></th>\n",
              "      <th>Country Name</th>\n",
              "      <th>Country Code</th>\n",
              "      <th>1960</th>\n",
              "      <th>1961</th>\n",
              "      <th>1962</th>\n",
              "      <th>1963</th>\n",
              "      <th>1964</th>\n",
              "      <th>1965</th>\n",
              "      <th>1966</th>\n",
              "      <th>1967</th>\n",
              "      <th>...</th>\n",
              "      <th>2012</th>\n",
              "      <th>2013</th>\n",
              "      <th>2014</th>\n",
              "      <th>2015</th>\n",
              "      <th>2016</th>\n",
              "      <th>2017</th>\n",
              "      <th>2018</th>\n",
              "      <th>2019</th>\n",
              "      <th>2020</th>\n",
              "      <th>2021</th>\n",
              "    </tr>\n",
              "  </thead>\n",
              "  <tbody>\n",
              "    <tr>\n",
              "      <th>0</th>\n",
              "      <td>Aruba</td>\n",
              "      <td>ABW</td>\n",
              "      <td>NaN</td>\n",
              "      <td>NaN</td>\n",
              "      <td>NaN</td>\n",
              "      <td>NaN</td>\n",
              "      <td>NaN</td>\n",
              "      <td>NaN</td>\n",
              "      <td>NaN</td>\n",
              "      <td>NaN</td>\n",
              "      <td>...</td>\n",
              "      <td>0.627472</td>\n",
              "      <td>-2.372065</td>\n",
              "      <td>0.421441</td>\n",
              "      <td>0.474764</td>\n",
              "      <td>-0.931196</td>\n",
              "      <td>-1.028282</td>\n",
              "      <td>3.626041</td>\n",
              "      <td>4.257462</td>\n",
              "      <td>NaN</td>\n",
              "      <td>NaN</td>\n",
              "    </tr>\n",
              "    <tr>\n",
              "      <th>1</th>\n",
              "      <td>Africa Eastern and Southern</td>\n",
              "      <td>AFE</td>\n",
              "      <td>NaN</td>\n",
              "      <td>NaN</td>\n",
              "      <td>NaN</td>\n",
              "      <td>NaN</td>\n",
              "      <td>NaN</td>\n",
              "      <td>NaN</td>\n",
              "      <td>NaN</td>\n",
              "      <td>NaN</td>\n",
              "      <td>...</td>\n",
              "      <td>9.158707</td>\n",
              "      <td>5.750981</td>\n",
              "      <td>5.370290</td>\n",
              "      <td>5.250171</td>\n",
              "      <td>6.571396</td>\n",
              "      <td>6.399343</td>\n",
              "      <td>4.720811</td>\n",
              "      <td>4.120246</td>\n",
              "      <td>6.362961</td>\n",
              "      <td>6.079328</td>\n",
              "    </tr>\n",
              "    <tr>\n",
              "      <th>2</th>\n",
              "      <td>Afghanistan</td>\n",
              "      <td>AFG</td>\n",
              "      <td>NaN</td>\n",
              "      <td>NaN</td>\n",
              "      <td>NaN</td>\n",
              "      <td>NaN</td>\n",
              "      <td>NaN</td>\n",
              "      <td>NaN</td>\n",
              "      <td>NaN</td>\n",
              "      <td>NaN</td>\n",
              "      <td>...</td>\n",
              "      <td>6.441213</td>\n",
              "      <td>7.385772</td>\n",
              "      <td>4.673996</td>\n",
              "      <td>-0.661709</td>\n",
              "      <td>4.383892</td>\n",
              "      <td>4.975952</td>\n",
              "      <td>0.626149</td>\n",
              "      <td>2.302373</td>\n",
              "      <td>NaN</td>\n",
              "      <td>NaN</td>\n",
              "    </tr>\n",
              "    <tr>\n",
              "      <th>3</th>\n",
              "      <td>Africa Western and Central</td>\n",
              "      <td>AFW</td>\n",
              "      <td>NaN</td>\n",
              "      <td>NaN</td>\n",
              "      <td>NaN</td>\n",
              "      <td>NaN</td>\n",
              "      <td>NaN</td>\n",
              "      <td>NaN</td>\n",
              "      <td>NaN</td>\n",
              "      <td>NaN</td>\n",
              "      <td>...</td>\n",
              "      <td>4.578375</td>\n",
              "      <td>2.439201</td>\n",
              "      <td>1.758052</td>\n",
              "      <td>2.130268</td>\n",
              "      <td>1.494564</td>\n",
              "      <td>1.764635</td>\n",
              "      <td>1.784050</td>\n",
              "      <td>1.758565</td>\n",
              "      <td>2.437609</td>\n",
              "      <td>3.837868</td>\n",
              "    </tr>\n",
              "    <tr>\n",
              "      <th>4</th>\n",
              "      <td>Angola</td>\n",
              "      <td>AGO</td>\n",
              "      <td>NaN</td>\n",
              "      <td>NaN</td>\n",
              "      <td>NaN</td>\n",
              "      <td>NaN</td>\n",
              "      <td>NaN</td>\n",
              "      <td>NaN</td>\n",
              "      <td>NaN</td>\n",
              "      <td>NaN</td>\n",
              "      <td>...</td>\n",
              "      <td>10.277905</td>\n",
              "      <td>8.777814</td>\n",
              "      <td>7.280387</td>\n",
              "      <td>9.353840</td>\n",
              "      <td>30.698958</td>\n",
              "      <td>29.842578</td>\n",
              "      <td>19.630594</td>\n",
              "      <td>17.079704</td>\n",
              "      <td>22.271564</td>\n",
              "      <td>25.754266</td>\n",
              "    </tr>\n",
              "  </tbody>\n",
              "</table>\n",
              "<p>5 rows × 64 columns</p>\n",
              "</div>\n",
              "      <button class=\"colab-df-convert\" onclick=\"convertToInteractive('df-2c1e629a-7ab6-4d8a-84bc-3be2e5cea6d4')\"\n",
              "              title=\"Convert this dataframe to an interactive table.\"\n",
              "              style=\"display:none;\">\n",
              "        \n",
              "  <svg xmlns=\"http://www.w3.org/2000/svg\" height=\"24px\"viewBox=\"0 0 24 24\"\n",
              "       width=\"24px\">\n",
              "    <path d=\"M0 0h24v24H0V0z\" fill=\"none\"/>\n",
              "    <path d=\"M18.56 5.44l.94 2.06.94-2.06 2.06-.94-2.06-.94-.94-2.06-.94 2.06-2.06.94zm-11 1L8.5 8.5l.94-2.06 2.06-.94-2.06-.94L8.5 2.5l-.94 2.06-2.06.94zm10 10l.94 2.06.94-2.06 2.06-.94-2.06-.94-.94-2.06-.94 2.06-2.06.94z\"/><path d=\"M17.41 7.96l-1.37-1.37c-.4-.4-.92-.59-1.43-.59-.52 0-1.04.2-1.43.59L10.3 9.45l-7.72 7.72c-.78.78-.78 2.05 0 2.83L4 21.41c.39.39.9.59 1.41.59.51 0 1.02-.2 1.41-.59l7.78-7.78 2.81-2.81c.8-.78.8-2.07 0-2.86zM5.41 20L4 18.59l7.72-7.72 1.47 1.35L5.41 20z\"/>\n",
              "  </svg>\n",
              "      </button>\n",
              "      \n",
              "  <style>\n",
              "    .colab-df-container {\n",
              "      display:flex;\n",
              "      flex-wrap:wrap;\n",
              "      gap: 12px;\n",
              "    }\n",
              "\n",
              "    .colab-df-convert {\n",
              "      background-color: #E8F0FE;\n",
              "      border: none;\n",
              "      border-radius: 50%;\n",
              "      cursor: pointer;\n",
              "      display: none;\n",
              "      fill: #1967D2;\n",
              "      height: 32px;\n",
              "      padding: 0 0 0 0;\n",
              "      width: 32px;\n",
              "    }\n",
              "\n",
              "    .colab-df-convert:hover {\n",
              "      background-color: #E2EBFA;\n",
              "      box-shadow: 0px 1px 2px rgba(60, 64, 67, 0.3), 0px 1px 3px 1px rgba(60, 64, 67, 0.15);\n",
              "      fill: #174EA6;\n",
              "    }\n",
              "\n",
              "    [theme=dark] .colab-df-convert {\n",
              "      background-color: #3B4455;\n",
              "      fill: #D2E3FC;\n",
              "    }\n",
              "\n",
              "    [theme=dark] .colab-df-convert:hover {\n",
              "      background-color: #434B5C;\n",
              "      box-shadow: 0px 1px 3px 1px rgba(0, 0, 0, 0.15);\n",
              "      filter: drop-shadow(0px 1px 2px rgba(0, 0, 0, 0.3));\n",
              "      fill: #FFFFFF;\n",
              "    }\n",
              "  </style>\n",
              "\n",
              "      <script>\n",
              "        const buttonEl =\n",
              "          document.querySelector('#df-2c1e629a-7ab6-4d8a-84bc-3be2e5cea6d4 button.colab-df-convert');\n",
              "        buttonEl.style.display =\n",
              "          google.colab.kernel.accessAllowed ? 'block' : 'none';\n",
              "\n",
              "        async function convertToInteractive(key) {\n",
              "          const element = document.querySelector('#df-2c1e629a-7ab6-4d8a-84bc-3be2e5cea6d4');\n",
              "          const dataTable =\n",
              "            await google.colab.kernel.invokeFunction('convertToInteractive',\n",
              "                                                     [key], {});\n",
              "          if (!dataTable) return;\n",
              "\n",
              "          const docLinkHtml = 'Like what you see? Visit the ' +\n",
              "            '<a target=\"_blank\" href=https://colab.research.google.com/notebooks/data_table.ipynb>data table notebook</a>'\n",
              "            + ' to learn more about interactive tables.';\n",
              "          element.innerHTML = '';\n",
              "          dataTable['output_type'] = 'display_data';\n",
              "          await google.colab.output.renderOutput(dataTable, element);\n",
              "          const docLink = document.createElement('div');\n",
              "          docLink.innerHTML = docLinkHtml;\n",
              "          element.appendChild(docLink);\n",
              "        }\n",
              "      </script>\n",
              "    </div>\n",
              "  </div>\n",
              "  "
            ]
          },
          "metadata": {},
          "execution_count": 106
        }
      ]
    },
    {
      "cell_type": "code",
      "source": [
        "inflation.dtypes"
      ],
      "metadata": {
        "colab": {
          "base_uri": "https://localhost:8080/"
        },
        "id": "btp3Exgzds9M",
        "outputId": "f5eaff2c-e5a8-4dc4-ee23-7fce1047e2b0"
      },
      "execution_count": 107,
      "outputs": [
        {
          "output_type": "execute_result",
          "data": {
            "text/plain": [
              "Country Name     object\n",
              "Country Code     object\n",
              "1960            float64\n",
              "1961            float64\n",
              "1962            float64\n",
              "                 ...   \n",
              "2017            float64\n",
              "2018            float64\n",
              "2019            float64\n",
              "2020            float64\n",
              "2021            float64\n",
              "Length: 64, dtype: object"
            ]
          },
          "metadata": {},
          "execution_count": 107
        }
      ]
    },
    {
      "cell_type": "code",
      "source": [
        "vars(inflation['Country Name'])"
      ],
      "metadata": {
        "colab": {
          "base_uri": "https://localhost:8080/"
        },
        "id": "Q-r0MfnYjCzh",
        "outputId": "6f1a4c23-3dea-44c9-f441-059179d20b9a"
      },
      "execution_count": 111,
      "outputs": [
        {
          "output_type": "execute_result",
          "data": {
            "text/plain": [
              "{'_is_copy': None, '_mgr': SingleBlockManager\n",
              " Items: RangeIndex(start=0, stop=266, step=1)\n",
              " ObjectBlock: 266 dtype: object, '_item_cache': {}, '_attrs': {}, '_flags': <Flags(allows_duplicate_labels=True)>, '_name': 'Country Name', '_index': RangeIndex(start=0, stop=266, step=1), '_cacher': ('Country Name',\n",
              "  <weakref at 0x7f972311e4a0; to 'DataFrame' at 0x7f972317ebb0>), 'str': <pandas.core.strings.accessor.StringMethods at 0x7f972312d2b0>}"
            ]
          },
          "metadata": {},
          "execution_count": 111
        }
      ]
    },
    {
      "cell_type": "code",
      "source": [
        "#inflation['Country Name'] = inflation['Country Name'].convert_dtypes(str)\n",
        "#inflation['Country Code'] = inflation['Country Code'].convert_dtypes(str)"
      ],
      "metadata": {
        "id": "qW00uMLif6ed"
      },
      "execution_count": 108,
      "outputs": []
    },
    {
      "cell_type": "code",
      "source": [
        "#inflation.query(\"Country Name == 'Brazil'\")"
      ],
      "metadata": {
        "id": "Fs7fVuqqcVz9"
      },
      "execution_count": 109,
      "outputs": []
    }
  ]
}